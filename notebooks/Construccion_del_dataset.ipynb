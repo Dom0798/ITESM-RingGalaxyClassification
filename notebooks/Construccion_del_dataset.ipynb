{
  "cells": [
    {
      "cell_type": "markdown",
      "metadata": {},
      "source": [
        "**1) Importar librerías**"
      ]
    },
    {
      "cell_type": "code",
      "execution_count": 3,
      "metadata": {
        "id": "gThSlIx3B2Pe"
      },
      "outputs": [],
      "source": [
        "import re, time, os, pathlib\n",
        "import pandas as pd\n",
        "import requests\n",
        "from concurrent.futures import ThreadPoolExecutor, as_completed"
      ]
    },
    {
      "cell_type": "markdown",
      "metadata": {
        "id": "4dXgR_kJBvSj"
      },
      "source": [
        "**2) Configuración**"
      ]
    },
    {
      "cell_type": "code",
      "execution_count": 4,
      "metadata": {
        "id": "JYT1fcRnB9b9"
      },
      "outputs": [],
      "source": [
        "# ---------- CONFIG GLOBAL ----------\n",
        "OUTPUT_DIR = pathlib.Path(\"ls_dr10_cutouts_combined\")\n",
        "FITS_DIR   = OUTPUT_DIR / \"fits\"            # carpeta única para todos los FITS\n",
        "OUTPUT_CSV = \"lsdr10_paths.csv\"\n",
        "\n",
        "LAYER     = \"ls-dr10\"   # capa DR10\n",
        "PIXSCALE  = 0.262       # arcsec/pix\n",
        "SIZE      = 512         # lado (pix)\n",
        "TIMEOUT_S = 60\n",
        "WORKERS   = 8\n",
        "SLEEP_S   = 0.05\n",
        "BANDS     = \"griz\"      # DR10 soporta g,r,i,z\n",
        "\n",
        "FITS_DIR.mkdir(parents=True, exist_ok=True)"
      ]
    },
    {
      "cell_type": "markdown",
      "metadata": {
        "id": "u8qIoeUuCio7"
      },
      "source": [
        "**3) Funciones helper**"
      ]
    },
    {
      "cell_type": "code",
      "execution_count": 5,
      "metadata": {
        "id": "PIVnY4mJCFbD"
      },
      "outputs": [],
      "source": [
        "# --- para SDSS-DR14 (columna 'anillos') ---\n",
        "ANILLOS_LABEL = {\n",
        "    0:  \"none\",\n",
        "    4:  \"inner\",\n",
        "    8:  \"outer\",\n",
        "    12: \"inner+outer\",\n",
        "}\n",
        "\n",
        "def to_int(x, default=0):\n",
        "    \"\"\"Convierte un valor a entero.\n",
        "\n",
        "    Args:\n",
        "        x (float | str | None): Valor a convertir.\n",
        "        default (int, optional): Valor por defecto en caso de error. Defaults to 0.\n",
        "\n",
        "    Returns:\n",
        "        int: Valor convertido o el valor por defecto.\n",
        "    \"\"\"\n",
        "    try:\n",
        "        return int(x)\n",
        "    except Exception:\n",
        "        return default\n",
        "\n",
        "def ring_type_from_code(code: int) -> str:\n",
        "    \"\"\"Convierte un código de anillo a su etiqueta correspondiente.\n",
        "\n",
        "    Args:\n",
        "        code (int): Código del anillo.\n",
        "\n",
        "    Returns:\n",
        "        str: Etiqueta del anillo o \"unknown\" si el código no es válido.\n",
        "    \"\"\"\n",
        "    return ANILLOS_LABEL.get(code, \"unknown\")\n",
        "\n",
        "# --- cutout URL ---\n",
        "def fits_url(ra, dec, size=SIZE, bands=BANDS, layer=LAYER, pixscale=PIXSCALE):\n",
        "    return (f\"https://www.legacysurvey.org/viewer/fits-cutout\"\n",
        "            f\"?ra={ra:.8f}&dec={dec:.8f}&layer={layer}\"\n",
        "            f\"&pixscale={pixscale:.6f}&size={size}&bands={bands}\")"
      ]
    },
    {
      "cell_type": "markdown",
      "metadata": {
        "id": "B3APv19eC5hL"
      },
      "source": [
        "**4) SDSS-DR14 (Descarga de FITS, bandas griz)**"
      ]
    },
    {
      "cell_type": "code",
      "execution_count": 7,
      "metadata": {
        "id": "yT6kPNdvC2P3",
        "outputId": "b6b64071-0ada-4a1e-d3ec-d45f931bcb40"
      },
      "outputs": [
        {
          "name": "stdout",
          "output_type": "stream",
          "text": [
            "[SDSS] Conteo por tipo de anillo:\n",
            "anillos\n",
            "none           6660\n",
            "inner           857\n",
            "inner+outer     372\n",
            "outer           186\n",
            "Name: count, dtype: int64\n",
            "[SDSS] Filas: 8075, OK: 7999\n",
            "Guardado CSV: ls_dr10_cutouts_combined\\lsdr10_paths.csv\n",
            "Imágenes en: ls_dr10_cutouts_combined\\fits\n",
            "Descargas OK: 7999 / 8075\n",
            "\n",
            "Conteo por ring_type:\n",
            "ring_type\n",
            "none           6660\n",
            "inner           857\n",
            "inner+outer     372\n",
            "outer           186\n",
            "Name: count, dtype: int64\n"
          ]
        }
      ],
      "source": [
        "def fetch_one_sdss(row, outdir: pathlib.Path):\n",
        "    \"\"\"Descarga un FITS de SDSS basado en la información de una fila del DataFrame.\n",
        "    \n",
        "    Args:\n",
        "        row (dict): Fila del DataFrame con las columnas 'ra', 'dec', 'objID', 'anillos'.\n",
        "        outdir (pathlib.Path): Directorio donde se guardará el archivo FITS.\n",
        "\n",
        "    Returns:\n",
        "        dict: Diccionario con las claves 'fits_url', 'fits_path', 'status'.\n",
        "    \"\"\"\n",
        "    # row debe tener: ra, dec, objID, anillos\n",
        "    if pd.isna(row[\"ra\"]) or pd.isna(row[\"dec\"]):\n",
        "        return {\"fits_url\": None, \"fits_path\": None, \"status\": \"skip_nan\"}\n",
        "    ra   = float(row[\"ra\"])\n",
        "    dec  = float(row[\"dec\"])\n",
        "    oid  = str(row.get(\"objID\", f\"row{row.get('_idx', 0)}\"))\n",
        "    code = to_int(row.get(\"anillos\", 0))\n",
        "    rtype = ring_type_from_code(code)\n",
        "\n",
        "    # Nombre de archivo fits a partir de RA, DEC, objID, tipo de anillo\n",
        "    base = f\"SDSS_{oid}_{rtype}_ra{ra:.6f}_dec{dec:.6f}_s{SIZE}\"\n",
        "    dest = outdir / f\"{base}.fits\"\n",
        "    url  = fits_url(ra, dec)\n",
        "\n",
        "    status = \"ok\"\n",
        "\n",
        "    try:\n",
        "        # Descargar si no existe o está vacío\n",
        "        if not dest.exists() or dest.stat().st_size == 0:\n",
        "            r = requests.get(url, timeout=TIMEOUT_S)\n",
        "            if r.ok and r.content:  # Si la respuesta es válida, guardar el contenido\n",
        "                dest.write_bytes(r.content)\n",
        "            else:   # Respuesta no válida, registrar el estado del error\n",
        "                status = f\"http_{r.status_code}\"\n",
        "    except Exception as e:\n",
        "        status = f\"error:{e.__class__.__name__}\"\n",
        "\n",
        "    time.sleep(SLEEP_S)\n",
        "    return {\"fits_url\": url, \"fits_path\": str(dest), \"status\": status}\n",
        "\n",
        "\n",
        "# ---------------- PRINCIPAL ----------------\n",
        "sdss_out_df = None\n",
        "\n",
        "df_sdss = pd.read_csv(\"dataset.csv\")\n",
        "\n",
        "# Incluir solo filas con datos de ANILLOS_LABEL\n",
        "df_sdss = df_sdss[df_sdss[\"anillos\"].isin(ANILLOS_LABEL.keys())].copy()\n",
        "# imprimir el conteo por tipo de anillo\n",
        "print(f\"[SDSS] Conteo por tipo de anillo:\\n{df_sdss['anillos'].map(ANILLOS_LABEL).value_counts()}\")\n",
        "\n",
        "for col in [\"ra\", \"dec\", \"anillos\"]:\n",
        "    if col not in df_sdss.columns:\n",
        "        raise SystemExit(f\"[SDSS] Falta la columna '{col}'. Presentes: {list(df_sdss.columns)[:20]}\")\n",
        "\n",
        "# columnas derivadas\n",
        "df_sdss[\"anillos\"]    = df_sdss[\"anillos\"].apply(to_int)\n",
        "df_sdss[\"ring_type\"]  = df_sdss[\"anillos\"].apply(ring_type_from_code)\n",
        "df_sdss[\"is_partial\"] = (df_sdss[\"anillos\"] == 16)\n",
        "df_sdss[\"_idx\"] = range(len(df_sdss))\n",
        "\n",
        "# descargas\n",
        "rows = df_sdss.to_dict(orient=\"records\")\n",
        "downloads = []\n",
        "with ThreadPoolExecutor(max_workers=WORKERS) as ex:\n",
        "    futs = [ex.submit(fetch_one_sdss, row, FITS_DIR) for row in rows]\n",
        "    for f in as_completed(futs):\n",
        "        downloads.append(f.result())\n",
        "\n",
        "dl_df = pd.DataFrame(downloads)\n",
        "\n",
        "assert len(dl_df) == len(df_sdss), \"[SDSS] #descargas != #filas\"\n",
        "\n",
        "sdss_out_df = pd.concat([df_sdss.reset_index(drop=True),\n",
        "                        pd.DataFrame(dl_df, columns=[\"fits_url\",\"fits_path\",\"status\"])], axis=1)\n",
        "sdss_out_df[\"source\"] = \"sdss_anillos\"\n",
        "\n",
        "sdss_out_df.to_csv(OUTPUT_DIR / OUTPUT_CSV, index=False)\n",
        "print(f\"[SDSS] Filas: {len(sdss_out_df)}, OK: {(sdss_out_df.status=='ok').sum()}\")\n",
        "\n",
        "ok = (sdss_out_df.status == \"ok\").sum()\n",
        "print(f\"Guardado CSV: {OUTPUT_DIR / OUTPUT_CSV}\")\n",
        "print(f\"Imágenes en: {FITS_DIR}\")\n",
        "print(f\"Descargas OK: {ok} / {len(sdss_out_df)}\")\n",
        "print(\"\\nConteo por ring_type:\")\n",
        "print(sdss_out_df[\"ring_type\"].value_counts(dropna=False))"
      ]
    }
  ],
  "metadata": {
    "colab": {
      "provenance": []
    },
    "kernelspec": {
      "display_name": "Full",
      "language": "python",
      "name": "python3"
    },
    "language_info": {
      "codemirror_mode": {
        "name": "ipython",
        "version": 3
      },
      "file_extension": ".py",
      "mimetype": "text/x-python",
      "name": "python",
      "nbconvert_exporter": "python",
      "pygments_lexer": "ipython3",
      "version": "3.11.0"
    }
  },
  "nbformat": 4,
  "nbformat_minor": 0
}
